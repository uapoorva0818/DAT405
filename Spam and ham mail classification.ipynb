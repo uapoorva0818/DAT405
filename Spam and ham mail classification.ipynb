{
 "cells": [
  {
   "cell_type": "code",
   "execution_count": 1,
   "id": "ed2dcb58",
   "metadata": {},
   "outputs": [
    {
     "name": "stdout",
     "output_type": "stream",
     "text": [
      "zsh:1: command not found: wget\n",
      "zsh:1: command not found: wget\n",
      "zsh:1: command not found: wget\n",
      "tar: Error opening archive: Failed to open '20021010_easy_ham.tar.bz2'\n",
      "tar: Error opening archive: Failed to open '20021010_hard_ham.tar.bz2'\n",
      "tar: Error opening archive: Failed to open '20021010_spam.tar.bz2'\n"
     ]
    }
   ],
   "source": [
    "# #Download and extract data\n",
    "!wget https://spamassassin.apache.org/old/publiccorpus/20021010_easy_ham.tar.bz2\n",
    "!wget https://spamassassin.apache.org/old/publiccorpus/20021010_hard_ham.tar.bz2\n",
    "!wget https://spamassassin.apache.org/old/publiccorpus/20021010_spam.tar.bz2\n",
    "!tar -xjf 20021010_easy_ham.tar.bz2\n",
    "!tar -xjf 20021010_hard_ham.tar.bz2\n",
    "!tar -xjf 20021010_spam.tar.bz2"
   ]
  },
  {
   "cell_type": "code",
   "execution_count": 2,
   "id": "5b66abb5",
   "metadata": {},
   "outputs": [
    {
     "name": "stdout",
     "output_type": "stream",
     "text": [
      "total 1232\r\n",
      "drwxr-xr-x  8 apoorva  staff   256B Dec  6 19:07 \u001b[34m.\u001b[m\u001b[m\r\n",
      "drwx------+ 7 apoorva  staff   224B Dec  5 20:28 \u001b[34m..\u001b[m\u001b[m\r\n",
      "-rw-r--r--@ 1 apoorva  staff   6.0K Dec  5 21:26 .DS_Store\r\n",
      "drwxr-xr-x  5 apoorva  staff   160B Dec  5 21:56 \u001b[34m.ipynb_checkpoints\u001b[m\u001b[m\r\n",
      "-rw-r--r--  1 apoorva  staff   262K Dec  5 20:27 Classification of Iris dataset using supervised and unsupervised learning.ipynb\r\n",
      "-rw-r--r--  1 apoorva  staff   311K Dec  5 20:29 Predicting the sales of villas in Landvetter using Linear Regression.ipynb\r\n",
      "-rw-r--r--  1 apoorva  staff    24K Dec  6 19:07 Spam and ham mail classification.ipynb\r\n",
      "-rw-r--r--@ 1 apoorva  staff   1.5K Dec  5 20:23 data_assignment2.csv\r\n"
     ]
    }
   ],
   "source": [
    "!ls -lah\n"
   ]
  },
  {
   "cell_type": "code",
   "execution_count": 3,
   "id": "b8603cac",
   "metadata": {},
   "outputs": [],
   "source": [
    "# Importing necessary packages:\n",
    "\n",
    "from sklearn.pipeline import Pipeline\n",
    "from sklearn.naive_bayes import MultinomialNB\n",
    "from sklearn.naive_bayes import BernoulliNB\n",
    "from sklearn.feature_extraction.text import CountVectorizer\n",
    "from sklearn import metrics\n",
    "from sklearn.metrics import confusion_matrix\n",
    "\n",
    "import numpy as np\n",
    "import matplotlib.pyplot as plt\n",
    "import seaborn as sns"
   ]
  },
  {
   "cell_type": "code",
   "execution_count": 4,
   "id": "7ea351fa",
   "metadata": {},
   "outputs": [
    {
     "ename": "FileNotFoundError",
     "evalue": "[Errno 2] No such file or directory: '20021010_easy_ham.tar.bz2'",
     "output_type": "error",
     "traceback": [
      "\u001b[0;31m---------------------------------------------------------------------------\u001b[0m",
      "\u001b[0;31mFileNotFoundError\u001b[0m                         Traceback (most recent call last)",
      "\u001b[0;32m<ipython-input-4-f4dd3697d293>\u001b[0m in \u001b[0;36m<module>\u001b[0;34m\u001b[0m\n\u001b[1;32m     32\u001b[0m     \u001b[0;32mreturn\u001b[0m \u001b[0mpd\u001b[0m\u001b[0;34m.\u001b[0m\u001b[0mDataFrame\u001b[0m\u001b[0;34m(\u001b[0m\u001b[0mrows\u001b[0m\u001b[0;34m)\u001b[0m\u001b[0;34m\u001b[0m\u001b[0;34m\u001b[0m\u001b[0m\n\u001b[1;32m     33\u001b[0m \u001b[0;34m\u001b[0m\u001b[0m\n\u001b[0;32m---> 34\u001b[0;31m \u001b[0measy_ham\u001b[0m \u001b[0;34m=\u001b[0m \u001b[0mextract_emails\u001b[0m\u001b[0;34m(\u001b[0m\u001b[0;34m[\u001b[0m\u001b[0;34m'20021010_easy_ham.tar.bz2'\u001b[0m\u001b[0;34m]\u001b[0m\u001b[0;34m)\u001b[0m\u001b[0;34m\u001b[0m\u001b[0;34m\u001b[0m\u001b[0m\n\u001b[0m\u001b[1;32m     35\u001b[0m \u001b[0mhard_ham\u001b[0m \u001b[0;34m=\u001b[0m \u001b[0mextract_emails\u001b[0m\u001b[0;34m(\u001b[0m\u001b[0;34m[\u001b[0m\u001b[0;34m'20021010_hard_ham.tar.bz2'\u001b[0m\u001b[0;34m]\u001b[0m\u001b[0;34m)\u001b[0m\u001b[0;34m\u001b[0m\u001b[0;34m\u001b[0m\u001b[0m\n\u001b[1;32m     36\u001b[0m \u001b[0mham\u001b[0m \u001b[0;34m=\u001b[0m \u001b[0mextract_emails\u001b[0m\u001b[0;34m(\u001b[0m\u001b[0;34m[\u001b[0m\u001b[0;34m'20021010_easy_ham.tar.bz2'\u001b[0m\u001b[0;34m,\u001b[0m\u001b[0;34m'20021010_hard_ham.tar.bz2'\u001b[0m\u001b[0;34m]\u001b[0m\u001b[0;34m)\u001b[0m\u001b[0;34m\u001b[0m\u001b[0;34m\u001b[0m\u001b[0m\n",
      "\u001b[0;32m<ipython-input-4-f4dd3697d293>\u001b[0m in \u001b[0;36mextract_emails\u001b[0;34m(fnames)\u001b[0m\n\u001b[1;32m     17\u001b[0m     \u001b[0;32mfor\u001b[0m \u001b[0mfname\u001b[0m \u001b[0;32min\u001b[0m \u001b[0mfnames\u001b[0m\u001b[0;34m:\u001b[0m\u001b[0;34m\u001b[0m\u001b[0;34m\u001b[0m\u001b[0m\n\u001b[1;32m     18\u001b[0m \u001b[0;31m#         print(fname)\u001b[0m\u001b[0;34m\u001b[0m\u001b[0;34m\u001b[0m\u001b[0;34m\u001b[0m\u001b[0m\n\u001b[0;32m---> 19\u001b[0;31m         \u001b[0mtfile\u001b[0m \u001b[0;34m=\u001b[0m \u001b[0mtarfile\u001b[0m\u001b[0;34m.\u001b[0m\u001b[0mopen\u001b[0m\u001b[0;34m(\u001b[0m\u001b[0mfname\u001b[0m\u001b[0;34m,\u001b[0m \u001b[0;34m'r:bz2'\u001b[0m\u001b[0;34m)\u001b[0m\u001b[0;34m\u001b[0m\u001b[0;34m\u001b[0m\u001b[0m\n\u001b[0m\u001b[1;32m     20\u001b[0m         \u001b[0;32mfor\u001b[0m \u001b[0mmember\u001b[0m \u001b[0;32min\u001b[0m \u001b[0mtfile\u001b[0m\u001b[0;34m.\u001b[0m\u001b[0mgetmembers\u001b[0m\u001b[0;34m(\u001b[0m\u001b[0;34m)\u001b[0m\u001b[0;34m:\u001b[0m\u001b[0;34m\u001b[0m\u001b[0;34m\u001b[0m\u001b[0m\n\u001b[1;32m     21\u001b[0m             \u001b[0;32mif\u001b[0m \u001b[0;34m'ham'\u001b[0m \u001b[0;32min\u001b[0m \u001b[0mmember\u001b[0m\u001b[0;34m.\u001b[0m\u001b[0mname\u001b[0m\u001b[0;34m:\u001b[0m\u001b[0;34m\u001b[0m\u001b[0;34m\u001b[0m\u001b[0m\n",
      "\u001b[0;32m/opt/anaconda3/envs/dat405/lib/python3.7/tarfile.py\u001b[0m in \u001b[0;36mopen\u001b[0;34m(cls, name, mode, fileobj, bufsize, **kwargs)\u001b[0m\n\u001b[1;32m   1591\u001b[0m             \u001b[0;32melse\u001b[0m\u001b[0;34m:\u001b[0m\u001b[0;34m\u001b[0m\u001b[0;34m\u001b[0m\u001b[0m\n\u001b[1;32m   1592\u001b[0m                 \u001b[0;32mraise\u001b[0m \u001b[0mCompressionError\u001b[0m\u001b[0;34m(\u001b[0m\u001b[0;34m\"unknown compression type %r\"\u001b[0m \u001b[0;34m%\u001b[0m \u001b[0mcomptype\u001b[0m\u001b[0;34m)\u001b[0m\u001b[0;34m\u001b[0m\u001b[0;34m\u001b[0m\u001b[0m\n\u001b[0;32m-> 1593\u001b[0;31m             \u001b[0;32mreturn\u001b[0m \u001b[0mfunc\u001b[0m\u001b[0;34m(\u001b[0m\u001b[0mname\u001b[0m\u001b[0;34m,\u001b[0m \u001b[0mfilemode\u001b[0m\u001b[0;34m,\u001b[0m \u001b[0mfileobj\u001b[0m\u001b[0;34m,\u001b[0m \u001b[0;34m**\u001b[0m\u001b[0mkwargs\u001b[0m\u001b[0;34m)\u001b[0m\u001b[0;34m\u001b[0m\u001b[0;34m\u001b[0m\u001b[0m\n\u001b[0m\u001b[1;32m   1594\u001b[0m \u001b[0;34m\u001b[0m\u001b[0m\n\u001b[1;32m   1595\u001b[0m         \u001b[0;32melif\u001b[0m \u001b[0;34m\"|\"\u001b[0m \u001b[0;32min\u001b[0m \u001b[0mmode\u001b[0m\u001b[0;34m:\u001b[0m\u001b[0;34m\u001b[0m\u001b[0;34m\u001b[0m\u001b[0m\n",
      "\u001b[0;32m/opt/anaconda3/envs/dat405/lib/python3.7/tarfile.py\u001b[0m in \u001b[0;36mbz2open\u001b[0;34m(cls, name, mode, fileobj, compresslevel, **kwargs)\u001b[0m\n\u001b[1;32m   1669\u001b[0m             \u001b[0;32mraise\u001b[0m \u001b[0mCompressionError\u001b[0m\u001b[0;34m(\u001b[0m\u001b[0;34m\"bz2 module is not available\"\u001b[0m\u001b[0;34m)\u001b[0m\u001b[0;34m\u001b[0m\u001b[0;34m\u001b[0m\u001b[0m\n\u001b[1;32m   1670\u001b[0m \u001b[0;34m\u001b[0m\u001b[0m\n\u001b[0;32m-> 1671\u001b[0;31m         \u001b[0mfileobj\u001b[0m \u001b[0;34m=\u001b[0m \u001b[0mBZ2File\u001b[0m\u001b[0;34m(\u001b[0m\u001b[0mfileobj\u001b[0m \u001b[0;32mor\u001b[0m \u001b[0mname\u001b[0m\u001b[0;34m,\u001b[0m \u001b[0mmode\u001b[0m\u001b[0;34m,\u001b[0m \u001b[0mcompresslevel\u001b[0m\u001b[0;34m=\u001b[0m\u001b[0mcompresslevel\u001b[0m\u001b[0;34m)\u001b[0m\u001b[0;34m\u001b[0m\u001b[0;34m\u001b[0m\u001b[0m\n\u001b[0m\u001b[1;32m   1672\u001b[0m \u001b[0;34m\u001b[0m\u001b[0m\n\u001b[1;32m   1673\u001b[0m         \u001b[0;32mtry\u001b[0m\u001b[0;34m:\u001b[0m\u001b[0;34m\u001b[0m\u001b[0;34m\u001b[0m\u001b[0m\n",
      "\u001b[0;32m/opt/anaconda3/envs/dat405/lib/python3.7/bz2.py\u001b[0m in \u001b[0;36m__init__\u001b[0;34m(self, filename, mode, buffering, compresslevel)\u001b[0m\n\u001b[1;32m     90\u001b[0m \u001b[0;34m\u001b[0m\u001b[0m\n\u001b[1;32m     91\u001b[0m         \u001b[0;32mif\u001b[0m \u001b[0misinstance\u001b[0m\u001b[0;34m(\u001b[0m\u001b[0mfilename\u001b[0m\u001b[0;34m,\u001b[0m \u001b[0;34m(\u001b[0m\u001b[0mstr\u001b[0m\u001b[0;34m,\u001b[0m \u001b[0mbytes\u001b[0m\u001b[0;34m,\u001b[0m \u001b[0mos\u001b[0m\u001b[0;34m.\u001b[0m\u001b[0mPathLike\u001b[0m\u001b[0;34m)\u001b[0m\u001b[0;34m)\u001b[0m\u001b[0;34m:\u001b[0m\u001b[0;34m\u001b[0m\u001b[0;34m\u001b[0m\u001b[0m\n\u001b[0;32m---> 92\u001b[0;31m             \u001b[0mself\u001b[0m\u001b[0;34m.\u001b[0m\u001b[0m_fp\u001b[0m \u001b[0;34m=\u001b[0m \u001b[0m_builtin_open\u001b[0m\u001b[0;34m(\u001b[0m\u001b[0mfilename\u001b[0m\u001b[0;34m,\u001b[0m \u001b[0mmode\u001b[0m\u001b[0;34m)\u001b[0m\u001b[0;34m\u001b[0m\u001b[0;34m\u001b[0m\u001b[0m\n\u001b[0m\u001b[1;32m     93\u001b[0m             \u001b[0mself\u001b[0m\u001b[0;34m.\u001b[0m\u001b[0m_closefp\u001b[0m \u001b[0;34m=\u001b[0m \u001b[0;32mTrue\u001b[0m\u001b[0;34m\u001b[0m\u001b[0;34m\u001b[0m\u001b[0m\n\u001b[1;32m     94\u001b[0m             \u001b[0mself\u001b[0m\u001b[0;34m.\u001b[0m\u001b[0m_mode\u001b[0m \u001b[0;34m=\u001b[0m \u001b[0mmode_code\u001b[0m\u001b[0;34m\u001b[0m\u001b[0;34m\u001b[0m\u001b[0m\n",
      "\u001b[0;31mFileNotFoundError\u001b[0m: [Errno 2] No such file or directory: '20021010_easy_ham.tar.bz2'"
     ]
    }
   ],
   "source": [
    "#pre-processing code here\n",
    "\n",
    "import pandas as pd\n",
    "from sklearn.model_selection import train_test_split\n",
    "import tarfile \n",
    "\n",
    "#Extracting emails from zip file, storing them in a dataframe\n",
    "def extract_emails(fnames):\n",
    "    \"\"\" Extract the zipped emails and load them into a pandas df.\n",
    "    Args:\n",
    "        fname (str): the files with tar.bz2 extension\n",
    "    Returns:\n",
    "        pandas df: a pandas dataframe of emails\n",
    "    \"\"\"\n",
    "#     print(fnames)\n",
    "    rows = []\n",
    "    for fname in fnames:\n",
    "#         print(fname)\n",
    "        tfile = tarfile.open(fname, 'r:bz2')\n",
    "        for member in tfile.getmembers():\n",
    "            if 'ham' in member.name:\n",
    "                f = tfile.extractfile(member)\n",
    "                if f is not None:\n",
    "                    row = f.read()\n",
    "                    rows.append({'message': row.decode('latin-1'), 'class': 0, 'category':'ham', })\n",
    "            if 'spam' in member.name:\n",
    "                f = tfile.extractfile(member)\n",
    "                if f is not None:\n",
    "                    row = f.read()\n",
    "                    rows.append({'message': row.decode('latin-1'), 'class': 1, 'category':'spam'})\n",
    "        tfile.close()\n",
    "    return pd.DataFrame(rows)\n",
    "\n",
    "easy_ham = extract_emails(['20021010_easy_ham.tar.bz2'])\n",
    "hard_ham = extract_emails(['20021010_hard_ham.tar.bz2'])\n",
    "ham = extract_emails(['20021010_easy_ham.tar.bz2','20021010_hard_ham.tar.bz2'])\n",
    "spam = extract_emails(['20021010_spam.tar.bz2'])\n",
    "\n",
    "#Printing to see the message content of a sample email:\n",
    "# print(df_easy_ham['message'][0])\n",
    "\n",
    "print(\"Easy ham emails count: {0}\".format(easy_ham.shape[0]))\n",
    "print(\"Hard ham emails count: {0}\".format(hard_ham.shape[0]))\n",
    "print(\"Ham emails count: {0}\".format(ham.shape[0]))\n",
    "print(\"Spam emails count: {0}\".format(spam.shape[0]))"
   ]
  },
  {
   "cell_type": "code",
   "execution_count": null,
   "id": "e5bccce3",
   "metadata": {},
   "outputs": [],
   "source": [
    "ham.head()\n",
    "# ham.groupby('class').describe()"
   ]
  },
  {
   "cell_type": "code",
   "execution_count": null,
   "id": "90b99b9e",
   "metadata": {},
   "outputs": [],
   "source": [
    "#Code here\n",
    "\n",
    "# X_hamtrain, X_hamtest, y_hamtrain,  y_hamtest  = train_test_split(ham['message'], ham['class'],  test_size=0.20, random_state=42)\n",
    "hamtrain,  hamtest  = train_test_split(ham,  test_size=0.20, random_state=0)\n",
    "spamtrain, spamtest = train_test_split(spam, test_size=0.20, random_state=0)\n",
    "\n",
    "print(\"Ham train emails count: {0}\".format(hamtrain.shape[0]))\n",
    "print(\"Ham test emails count: {0}\".format(hamtest.shape[0]))\n",
    "print(\"Spam train emails count: {0}\".format(spamtrain.shape[0]))\n",
    "print(\"Spam test emails count: {0}\".format(spamtest.shape[0]))"
   ]
  },
  {
   "cell_type": "code",
   "execution_count": null,
   "id": "70256a97",
   "metadata": {},
   "outputs": [],
   "source": [
    "# Concatenating ham and spam training emails as one database - train_mails\n",
    "train_mails = pd.concat([hamtrain,spamtrain])\n",
    "# Concatenating ham and spam test emails as one database - test_mails\n",
    "test_mails = pd.concat([hamtest,spamtest])"
   ]
  },
  {
   "cell_type": "code",
   "execution_count": null,
   "id": "6949b5df",
   "metadata": {},
   "outputs": [],
   "source": [
    "# Function email_classifier defined for email classification:\n",
    "def email_classifier(model,X_train,X_test,y_train,y_test):\n",
    "    \"\"\"\n",
    "    INPUT Parameters:\n",
    "    model    : Input model with CountVectorizer and Classifier defined in a pipeline\n",
    "    X_train  : Training emails message \n",
    "    X_test   : Test emails message\n",
    "    y_train  : Train emails label, specifying ham or spam\n",
    "    y_test   : Test emails label, specifying ham or spam\n",
    "    OUPUT Parameters:\n",
    "    accuracy : score calculated by the model with predicted and actual labels\n",
    "    cm       : Confusion Matrix\n",
    "    \"\"\"\n",
    "    model.fit(X_train, y_train)\n",
    "    y_pred = model.predict(X_test)\n",
    "    accuracy = model.score(X_test,y_test)\n",
    "    cm = confusion_matrix(y_test, y_pred)\n",
    "    tn, fp, fn, tp = cm.ravel()\n",
    "    tpr = tp/(tp+fn)\n",
    "    fnr = fn/(fn+tp)\n",
    "    return accuracy, cm, tpr, fnr"
   ]
  },
  {
   "cell_type": "code",
   "execution_count": null,
   "id": "ae193be5",
   "metadata": {},
   "outputs": [],
   "source": [
    "# Model 1 with CountVectorizer and Multinomial Naive Bayes in a pipeline\n",
    "model_mnb = Pipeline([('vectorizer', CountVectorizer()),('mnb', MultinomialNB())])\n",
    "# Model 2 with CountVectorizer and Bernouli Naive Bayes in a pipeline\n",
    "model_bnb = Pipeline([('vectorizer', CountVectorizer()),('bnb', BernoulliNB())])"
   ]
  },
  {
   "cell_type": "code",
   "execution_count": null,
   "id": "fb6c3b06",
   "metadata": {},
   "outputs": [],
   "source": [
    "accuracy_mnb, cm_mnb, tpr_mnb, fnr_mnb = email_classifier(model_mnb, train_mails['message'], test_mails['message'], train_mails['class'], test_mails['class'])\n",
    "accuracy_bnb, cm_bnb, tpr_bnb, fnr_bnb = email_classifier(model_bnb, train_mails['message'], test_mails['message'], train_mails['class'], test_mails['class'])"
   ]
  },
  {
   "cell_type": "code",
   "execution_count": null,
   "id": "339d9b47",
   "metadata": {},
   "outputs": [],
   "source": [
    "print(\"=============== Multinomial Naive Bayes classifier ===============\")\n",
    "print(\"Accuracy            : {0:.3f}%\".format(accuracy_mnb*100))\n",
    "print(\"True Positive Rate  : {0:.3f}\".format(tpr_mnb))\n",
    "print(\"False Negative Rate : {0:.3f}\".format(fnr_mnb))\n",
    "print('\\n')\n",
    "print(\"=============== Bernoulli Naive Bayes classifier ===============\")\n",
    "print(\"Accuracy            : {0:.3f}%\".format(accuracy_bnb*100))\n",
    "print(\"True Positive Rate  : {0:.3f}\".format(tpr_bnb))\n",
    "print(\"False Negative Rate : {0:.3f}\".format(fnr_bnb))"
   ]
  },
  {
   "cell_type": "code",
   "execution_count": null,
   "id": "70f366f8",
   "metadata": {},
   "outputs": [],
   "source": [
    "fig, ax = plt.subplots(figsize=(9,9))\n",
    "sns.heatmap(cm_mnb, annot=True,fmt=\".3f\", linewidths=0.5,square = True, cmap = 'Blues');\n",
    "names = np.array(['Ham','Spam'])\n",
    "plt.ylabel('Actual label');\n",
    "plt.xlabel('Predicted label');\n",
    "ax.set_xticklabels(names)\n",
    "ax.set_yticklabels(names)\n",
    "title = ('Confusion Matrix for Multinomial Naive Bayes classifier - Accuracy : {0:.3f}%'.format(accuracy_mnb*100))\n",
    "plt.title(title, size = 10);\n",
    "plt.show()"
   ]
  },
  {
   "cell_type": "code",
   "execution_count": null,
   "id": "7d541e55",
   "metadata": {},
   "outputs": [],
   "source": [
    "fig, ax = plt.subplots(figsize=(9,9))\n",
    "sns.heatmap(cm_bnb, annot=True,fmt=\".3f\", linewidths=0.5,square = True, cmap = 'Greens');\n",
    "names = np.array(['Ham','Spam'])\n",
    "plt.ylabel('Actual label');\n",
    "plt.xlabel('Predicted label');\n",
    "ax.set_xticklabels(names)\n",
    "ax.set_yticklabels(names)\n",
    "title = ('Confusion Matrix for Bernoulli Naive Bayes classifier - Accuracy : {0:.3f}%'.format(accuracy_bnb*100))\n",
    "plt.title(title, size = 10);\n",
    "plt.show()"
   ]
  },
  {
   "cell_type": "code",
   "execution_count": null,
   "id": "f46f36dd",
   "metadata": {},
   "outputs": [],
   "source": [
    "#Code to report results here\n",
    "easyhamtrain,  easyhamtest  = train_test_split(easy_ham,  test_size=0.20, random_state=0)\n",
    "hardhamtrain,  hardhamtest  = train_test_split(hard_ham,  test_size=0.20, random_state=0)\n",
    "\n",
    "print(\"Easy Ham train emails count: {0}\".format(easyhamtrain.shape[0]))\n",
    "print(\"Easy Ham test emails count : {0}\".format(easyhamtest.shape[0]))\n",
    "print(\"Hard Ham train emails count: {0}\".format(hardhamtrain.shape[0]))\n",
    "print(\"Hard Ham test emails count : {0}\".format(hardhamtest.shape[0]))\n",
    "print(\"Spam train emails count    : {0}\".format(spamtrain.shape[0]))\n",
    "print(\"Spam test emails count     : {0}\".format(spamtest.shape[0]))"
   ]
  },
  {
   "cell_type": "code",
   "execution_count": null,
   "id": "f1241696",
   "metadata": {},
   "outputs": [],
   "source": [
    "# Concatenating easy ham and spam training emails as one database - train_mails\n",
    "train_mails = pd.concat([easyhamtrain,spamtrain])\n",
    "# Concatenating easy ham and spam test emails as one database - test_mails\n",
    "test_mails = pd.concat([easyhamtest,spamtest])\n",
    "\n",
    "print(\"Total train emails count: {0}\".format(train_mails.shape[0]))\n",
    "print(\"Total test emails count : {0}\".format(test_mails.shape[0]))"
   ]
  },
  {
   "cell_type": "code",
   "execution_count": null,
   "id": "d63dcccb",
   "metadata": {},
   "outputs": [],
   "source": [
    "#Multinominal Naive Bayes\n",
    "accuracy_mnb, cm_mnb, tpr_mnb, fnr_mnb = email_classifier(model_mnb, train_mails['message'], test_mails['message'], train_mails['class'], test_mails['class'])\n",
    "#Bernouli Naive Bayes\n",
    "accuracy_bnb, cm_bnb, tpr_bnb, fnr_bnb = email_classifier(model_bnb, train_mails['message'], test_mails['message'], train_mails['class'], test_mails['class'])\n",
    "\n",
    "print(\"Spam vs Easy ham:\")\n",
    "print(\"=============== Multinomial Naive Bayes classifier ===============\")\n",
    "print(\"Accuracy            : {0:.3f}%\".format(accuracy_mnb*100))\n",
    "print(\"True Positive Rate  : {0:.3f}\".format(tpr_mnb))\n",
    "print(\"False Negative Rate : {0:.3f}\".format(fnr_mnb))\n",
    "print('\\n')\n",
    "print(\"=============== Bernoulli Naive Bayes classifier ===============\")\n",
    "print(\"Accuracy            : {0:.3f}%\".format(accuracy_bnb*100))\n",
    "print(\"True Positive Rate  : {0:.3f}\".format(tpr_bnb))\n",
    "print(\"False Negative Rate : {0:.3f}\".format(fnr_bnb))"
   ]
  },
  {
   "cell_type": "code",
   "execution_count": null,
   "id": "5ec8dbb5",
   "metadata": {},
   "outputs": [],
   "source": [
    "#Multinomial Naive bayes confusion matrix\n",
    "fig, ax = plt.subplots(figsize=(9,9))\n",
    "sns.heatmap(cm_mnb, annot=True,fmt=\".3f\", linewidths=0.5,square = True, cmap = 'Blues');\n",
    "names = np.array(['Ham','Spam'])\n",
    "plt.ylabel('Actual label');\n",
    "plt.xlabel('Predicted label');\n",
    "ax.set_xticklabels(names)\n",
    "ax.set_yticklabels(names)\n",
    "title = ('Confusion Matrix for Multinomial Naive Bayes classifier - Accuracy : {0:.3f}%'.format(accuracy_mnb*100))\n",
    "plt.title(title, size = 10);\n",
    "plt.show()"
   ]
  },
  {
   "cell_type": "code",
   "execution_count": null,
   "id": "e8e32b07",
   "metadata": {},
   "outputs": [],
   "source": [
    "#Bernouli Naive bayes confusion matrix\n",
    "fig, ax = plt.subplots(figsize=(9,9))\n",
    "sns.heatmap(cm_bnb, annot=True,fmt=\".3f\", linewidths=0.5,square = True, cmap = 'Greens');\n",
    "names = np.array(['Ham','Spam'])\n",
    "plt.ylabel('Actual label');\n",
    "plt.xlabel('Predicted label');\n",
    "ax.set_xticklabels(names)\n",
    "ax.set_yticklabels(names)\n",
    "title = ('Confusion Matrix for Bernoulli Naive Bayes classifier - Accuracy : {0:.3f}%'.format(accuracy_bnb*100))\n",
    "plt.title(title, size = 10);\n",
    "plt.show()"
   ]
  },
  {
   "cell_type": "code",
   "execution_count": null,
   "id": "7ce3a4ec",
   "metadata": {},
   "outputs": [],
   "source": [
    "# Concatenating hard ham and spam training emails as one database - train_mails\n",
    "train_mails = pd.concat([hardhamtrain,spamtrain])\n",
    "# Concatenating hard ham and spam test emails as one database - test_mails\n",
    "test_mails = pd.concat([hardhamtest,spamtest])\n",
    "\n",
    "print(\"Total train emails count: {0}\".format(train_mails.shape[0]))\n",
    "print(\"Total test emails count : {0}\".format(test_mails.shape[0]))"
   ]
  },
  {
   "cell_type": "code",
   "execution_count": null,
   "id": "4c6e0841",
   "metadata": {},
   "outputs": [],
   "source": [
    "#Multinominal Naive Bayes\n",
    "accuracy_mnb, cm_mnb, tpr_mnb, fnr_mnb  = email_classifier(model_mnb, train_mails['message'], test_mails['message'], train_mails['class'], test_mails['class'])\n",
    "#Bernouli Naive Bayes\n",
    "accuracy_bnb, cm_bnb, tpr_bnb, fnr_bnb = email_classifier(model_bnb, train_mails['message'], test_mails['message'], train_mails['class'], test_mails['class'])\n",
    "\n",
    "print(\"Spam vs Hard ham:\")\n",
    "print(\"=============== Multinomial Naive Bayes classifier ===============\")\n",
    "print(\"Accuracy            : {0:.3f}%\".format(accuracy_mnb*100))\n",
    "print(\"True Positive Rate  : {0:.3f}\".format(tpr_mnb))\n",
    "print(\"False Negative Rate : {0:.3f}\".format(fnr_mnb))\n",
    "print('\\n')\n",
    "print(\"=============== Bernoulli Naive Bayes classifier ===============\")\n",
    "print(\"Accuracy            : {0:.3f}%\".format(accuracy_bnb*100))\n",
    "print(\"True Positive Rate  : {0:.3f}\".format(tpr_bnb))\n",
    "print(\"False Negative Rate : {0:.3f}\".format(fnr_bnb))"
   ]
  },
  {
   "cell_type": "code",
   "execution_count": null,
   "id": "70eed091",
   "metadata": {},
   "outputs": [],
   "source": [
    "#Multinomial Naive bayes confusion matrix\n",
    "fig, ax = plt.subplots(figsize=(9,9))\n",
    "sns.heatmap(cm_mnb, annot=True,fmt=\".3f\", linewidths=0.5,square = True, cmap = 'Blues');\n",
    "names = np.array(['Ham','Spam'])\n",
    "plt.ylabel('Actual label');\n",
    "plt.xlabel('Predicted label');\n",
    "ax.set_xticklabels(names)\n",
    "ax.set_yticklabels(names)\n",
    "title = ('Confusion Matrix for Multinomial Naive Bayes classifier - Accuracy : {0:.3f}%'.format(accuracy_mnb*100))\n",
    "plt.title(title, size = 10);\n",
    "plt.show()"
   ]
  },
  {
   "cell_type": "code",
   "execution_count": null,
   "id": "d0dccb89",
   "metadata": {},
   "outputs": [],
   "source": [
    "#Bernouli Naive bayes confusion matrix\n",
    "fig, ax = plt.subplots(figsize=(9,9))\n",
    "sns.heatmap(cm_bnb, annot=True,fmt=\".3f\", linewidths=0.5,square = True, cmap = 'Greens');\n",
    "names = np.array(['Ham','Spam'])\n",
    "plt.ylabel('Actual label');\n",
    "plt.xlabel('Predicted label');\n",
    "ax.set_xticklabels(names)\n",
    "ax.set_yticklabels(names)\n",
    "title = ('Confusion Matrix for Bernoulli Naive Bayes classifier - Accuracy : {0:.3f}%'.format(accuracy_bnb*100))\n",
    "plt.title(title, size = 10);\n",
    "plt.show()"
   ]
  },
  {
   "cell_type": "code",
   "execution_count": null,
   "id": "fcc96515",
   "metadata": {},
   "outputs": [],
   "source": [
    "import nltk\n",
    "nltk.download('punkt')"
   ]
  },
  {
   "cell_type": "code",
   "execution_count": null,
   "id": "cd8aa189",
   "metadata": {},
   "outputs": [],
   "source": [
    "from nltk.corpus import stopwords\n",
    "from nltk.tokenize import word_tokenize\n",
    "from collections import Counter \n",
    "import collections\n",
    "\n",
    "\n",
    "def filter_words(emails, uncommon_words_limit, common_words_limit):\n",
    "    words_occurance = dict()\n",
    "    for email in emails:\n",
    "        words = word_tokenize(email)\n",
    "        counter = Counter(words)\n",
    "        ten_repeated = counter.most_common(10)\n",
    "        \n",
    "        for (word,count) in ten_repeated:\n",
    "            if word.isalpha():\n",
    "                if word in words_occurance:\n",
    "                    words_occurance[word] += count\n",
    "                else:\n",
    "                    words_occurance[word] = count\n",
    "    \n",
    "    temp = collections.OrderedDict(sorted(words_occurance.items(), key=lambda kv: kv[1], reverse=True))\n",
    "    filtered = {key:value for key, value in temp.items() if value < uncommon_words_limit or value > common_words_limit}\n",
    "    return filtered\n"
   ]
  },
  {
   "cell_type": "code",
   "execution_count": null,
   "id": "bba71307",
   "metadata": {},
   "outputs": [],
   "source": [
    "print(\"Common and Uncommon words in ham emails:\",filter_words(ham['message'],20,1000))"
   ]
  },
  {
   "cell_type": "code",
   "execution_count": null,
   "id": "b952e48f",
   "metadata": {},
   "outputs": [],
   "source": [
    "print(\"Common and Uncommon words in spam emails:\",filter_words(spam['message'],20,1000))"
   ]
  },
  {
   "cell_type": "code",
   "execution_count": null,
   "id": "4d88a1dd",
   "metadata": {},
   "outputs": [],
   "source": [
    "\n",
    "\n",
    "# Model 1 with CountVectorizer and Multinomial Naive Bayes in a pipeline\n",
    "model_mnb = Pipeline([('vectorizer', CountVectorizer(min_df=10, max_df=1000)),('mnb', MultinomialNB())])\n",
    "# Model 2 with CountVectorizer and Bernouli Naive Bayes in a pipeline\n",
    "model_bnb = Pipeline([('vectorizer', CountVectorizer(min_df=10, max_df=1000)),('bnb', BernoulliNB())])\n",
    "\n",
    "# Concatenating ham and spam training emails as one database - train_mails\n",
    "train_mails = pd.concat([hamtrain,spamtrain])\n",
    "# Concatenating ham and spam test emails as one database - test_mails\n",
    "test_mails = pd.concat([hamtest,spamtest])\n"
   ]
  },
  {
   "cell_type": "code",
   "execution_count": null,
   "id": "78d1e929",
   "metadata": {},
   "outputs": [],
   "source": [
    "print(\"=============== Multinomial Naive Bayes classifier ===============\")\n",
    "print(\"Accuracy            : {0:.3f}%\".format(accuracy_mnb*100))\n",
    "print(\"True Positive Rate  : {0:.3f}\".format(tpr_mnb))\n",
    "print(\"False Negative Rate : {0:.3f}\".format(fnr_mnb))\n",
    "print('\\n')\n",
    "print(\"=============== Bernoulli Naive Bayes classifier ===============\")\n",
    "print(\"Accuracy            : {0:.3f}%\".format(accuracy_bnb*100))\n",
    "print(\"True Positive Rate  : {0:.3f}\".format(tpr_bnb))\n",
    "print(\"False Negative Rate : {0:.3f}\".format(fnr_bnb))"
   ]
  },
  {
   "cell_type": "code",
   "execution_count": null,
   "id": "0b4e9964",
   "metadata": {},
   "outputs": [],
   "source": [
    "# Function email_classifier defined for email classification:\n",
    "def email_classifier_mod(model,X_train,X_test,y_train,y_test):\n",
    "    \"\"\"\n",
    "    INPUT Parameters:\n",
    "    model    : Input model with CountVectorizer and Classifier defined in a pipeline\n",
    "    X_train  : Training emails message \n",
    "    X_test   : Test emails message\n",
    "    y_train  : Train emails label, specifying ham or spam\n",
    "    y_test   : Test emails label, specifying ham or spam\n",
    "    OUPUT Parameters:\n",
    "    accuracy : score calculated by the model with predicted and actual labels\n",
    "    cm       : Confusion Matrix\n",
    "    \"\"\"\n",
    "    model.fit(X_train, y_train)\n",
    "    y_pred = model.predict(X_test)\n",
    "    accuracy = model.score(X_test,y_test)\n",
    "    cm = confusion_matrix(y_test, y_pred)\n",
    "#     print(cm)\n",
    "    tn, fp, fn, tp = cm.ravel()\n",
    "#     tpr = tp/(tp+fn)\n",
    "#     fnr = fn/(fn+tp)\n",
    "    return accuracy, cm"
   ]
  },
  {
   "cell_type": "code",
   "execution_count": null,
   "id": "f884eb4b",
   "metadata": {},
   "outputs": [],
   "source": [
    "accuracy1, cm_mnb = email_classifier_mod(model_mnb, spamtrain['message'], hamtest['message'], spamtrain['class'], hamtest['class'])\n",
    "accuracy2, cm_bnb = email_classifier_mod(model_bnb, spamtrain['message'], hamtest['message'], spamtrain['class'], hamtest['class'])"
   ]
  },
  {
   "cell_type": "code",
   "execution_count": null,
   "id": "8aca78cf",
   "metadata": {},
   "outputs": [],
   "source": [
    "#Multinomial Naive bayes confusion matrix\n",
    "fig, ax = plt.subplots(figsize=(9,9))\n",
    "sns.heatmap(cm_mnb, annot=True,fmt=\".3f\", linewidths=0.5,square = True, cmap = 'Blues');\n",
    "names = np.array(['Ham','Spam'])\n",
    "plt.ylabel('Actual label');\n",
    "plt.xlabel('Predicted label');\n",
    "ax.set_xticklabels(names)\n",
    "ax.set_yticklabels(names)\n",
    "title = ('Confusion Matrix for Multinomial Naive Bayes classifier - Accuracy : {0:.3f}%'.format(accuracy1*100))\n",
    "plt.title(title, size = 10);\n",
    "plt.show()"
   ]
  },
  {
   "cell_type": "code",
   "execution_count": null,
   "id": "29a85fd2",
   "metadata": {},
   "outputs": [],
   "source": [
    "#Bernouli Naive bayes confusion matrix\n",
    "fig, ax = plt.subplots(figsize=(9,9))\n",
    "sns.heatmap(cm_bnb, annot=True,fmt=\".3f\", linewidths=0.5,square = True, cmap = 'Greens');\n",
    "names = np.array(['Ham','Spam'])\n",
    "plt.ylabel('Actual label');\n",
    "plt.xlabel('Predicted label');\n",
    "ax.set_xticklabels(names)\n",
    "ax.set_yticklabels(names)\n",
    "title = ('Confusion Matrix for Bernoulli Naive Bayes classifier - Accuracy : {0:.3f}%'.format(accuracy2*100))\n",
    "plt.title(title, size = 10);\n",
    "plt.show()"
   ]
  },
  {
   "cell_type": "code",
   "execution_count": null,
   "id": "071e0261",
   "metadata": {},
   "outputs": [],
   "source": [
    "#fit_prior is set to false, ignoring previous state probabilities\n",
    "\n",
    "# Model 1 with CountVectorizer and Multinomial Naive Bayes in a pipeline\n",
    "model_mnb = Pipeline([('vectorizer', CountVectorizer(min_df=10, max_df=1000)),('mnb', MultinomialNB(fit_prior=False))])\n",
    "# Model 2 with CountVectorizer and Bernouli Naive Bayes in a pipeline\n",
    "model_bnb = Pipeline([('vectorizer', CountVectorizer(min_df=10, max_df=1000)),('bnb', BernoulliNB(fit_prior=False))])\n",
    "\n",
    "# Concatenating ham and spam training emails as one database - train_mails\n",
    "train_mails = pd.concat([hamtrain,spamtrain])\n",
    "# Concatenating ham and spam test emails as one database - test_mails\n",
    "test_mails = pd.concat([hamtest,spamtest])\n",
    "\n"
   ]
  },
  {
   "cell_type": "code",
   "execution_count": null,
   "id": "8bf902a0",
   "metadata": {},
   "outputs": [],
   "source": [
    "accuracy_mnb, cm_mnb, tpr_mnb, fnr_mnb = email_classifier(model_mnb, train_mails['message'], test_mails['message'], train_mails['class'], test_mails['class'])\n",
    "accuracy_bnb, cm_bnb, tpr_bnb, fnr_bnb = email_classifier(model_bnb, train_mails['message'], test_mails['message'], train_mails['class'], test_mails['class'])"
   ]
  },
  {
   "cell_type": "code",
   "execution_count": null,
   "id": "dd13d87b",
   "metadata": {},
   "outputs": [],
   "source": [
    "print(\"=============== Multinomial Naive Bayes classifier ===============\")\n",
    "print(\"Accuracy            : {0:.3f}%\".format(accuracy_mnb*100))\n",
    "print(\"True Positive Rate  : {0:.3f}\".format(tpr_mnb))\n",
    "print(\"False Negative Rate : {0:.3f}\".format(fnr_mnb))\n",
    "print('\\n')\n",
    "print(\"=============== Bernoulli Naive Bayes classifier ===============\")\n",
    "print(\"Accuracy            : {0:.3f}%\".format(accuracy_bnb*100))\n",
    "print(\"True Positive Rate  : {0:.3f}\".format(tpr_bnb))\n",
    "print(\"False Negative Rate : {0:.3f}\".format(fnr_bnb))"
   ]
  },
  {
   "cell_type": "code",
   "execution_count": null,
   "id": "7f4239ca",
   "metadata": {},
   "outputs": [],
   "source": []
  },
  {
   "cell_type": "code",
   "execution_count": null,
   "id": "9014287f",
   "metadata": {},
   "outputs": [],
   "source": []
  }
 ],
 "metadata": {
  "kernelspec": {
   "display_name": "Python 3",
   "language": "python",
   "name": "python3"
  },
  "language_info": {
   "codemirror_mode": {
    "name": "ipython",
    "version": 3
   },
   "file_extension": ".py",
   "mimetype": "text/x-python",
   "name": "python",
   "nbconvert_exporter": "python",
   "pygments_lexer": "ipython3",
   "version": "3.7.11"
  }
 },
 "nbformat": 4,
 "nbformat_minor": 5
}
